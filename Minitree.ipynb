{
 "cells": [
  {
   "cell_type": "code",
   "execution_count": null,
   "metadata": {},
   "outputs": [
    {
     "name": "stderr",
     "output_type": "stream",
     "text": [
      "/usr/local/lib/python3.5/dist-packages/h5py/__init__.py:36: FutureWarning: Conversion of the second argument of issubdtype from `float` to `np.floating` is deprecated. In future, it will be treated as `np.float64 == np.dtype(float).type`.\n",
      "  from ._conv import register_converters as _register_converters\n"
     ]
    },
    {
     "name": "stdout",
     "output_type": "stream",
     "text": [
      "Batch(10):0.137339286"
     ]
    }
   ],
   "source": [
    "import pandas as pd\n",
    "import numpy as np\n",
    "from sklearn.model_selection import train_test_split\n",
    "import tensorflow as tf\n",
    "import os\n",
    "import sys\n",
    "os.environ[\"CUDA_VISIBLE_DEVICES\"] = \"7\"\n",
    "import sklearn.metrics\n",
    "\n",
    "df = pd.read_csv('minitree_4b_2_26.txt', sep = ' ', header=0)\n",
    "\n",
    "y = (df['Jet_genjetPt']/df['Jet_pt']).values.reshape(-1, 1)\n",
    "X = df.drop(['Jet_pt', 'Jet_genjetPt'], axis = 1).values\n",
    "\n",
    "#X_train, X_test, y_train, y_test = train_test_split(X, y, test_size = 0.2, random_state = 1)\n",
    "X_train = X[0:3200000]\n",
    "y_train = y[0:3200000]\n",
    "X_test = X[3200000:]\n",
    "y_test = y[3200000:]\n",
    "\n",
    "learning_rate = 0.000001\n",
    "batch_size = 200\n",
    "epochs = 10\n",
    "g_1 = tf.Graph()\n",
    "n, d = X_train.shape\n",
    "\n",
    "with g_1.as_default():\n",
    "    \n",
    "    X_placeholder = tf.placeholder(tf.float32, [None, 17])\n",
    "    y_placeholder = tf.placeholder(tf.float32, [None, 1])\n",
    "\n",
    "    a1 = tf.layers.dense(X_placeholder, 40, tf.nn.relu, name = 'layer_1')\n",
    "    a2 = tf.layers.dense(a1, 40, tf.nn.relu, name = 'layer_2')\n",
    "    a3 = tf.layers.dense(a2, 40, tf.nn.relu, name = 'layer_3')\n",
    "    a4 = tf.layers.dense(a3, 40, tf.nn.relu, name = 'layer_4')\n",
    "    a5 = tf.layers.dense(a4, 40, tf.nn.relu, name = 'layer_5')\n",
    "    a6 = tf.layers.dense(a5, 40, tf.nn.relu, name = 'layer_6')\n",
    "    a7 = tf.layers.dense(a6, 40, tf.nn.relu, name = 'layer_7')\n",
    "    a8 = tf.layers.dense(a7, 20, tf.nn.relu, name = 'layer_8')\n",
    "    a9 = tf.layers.dense(a8, 10, name = 'layer_9', activation = None)\n",
    "    z10 = tf.layers.dense(a9, 1, name = 'layer_10', activation = None)\n",
    "\n",
    "    loss = tf.losses.mean_squared_error(labels = y_placeholder, predictions = z10)\n",
    "    train_step = tf.train.GradientDescentOptimizer(learning_rate).minimize(loss)\n",
    "    #initializer\n",
    "    init = tf.global_variables_initializer()\n",
    "\n",
    "    config = tf.ConfigProto(allow_soft_placement = False, log_device_placement=True)\n",
    "    #config.gpu_options.per_process_gpu_memory_fraction = 0.4\n",
    "    config.gpu_options.allow_growth = True\n",
    "    \n",
    "    #saver\n",
    "    saver = tf.train.Saver()\n",
    "    with tf.Session(config = config) as sess:\n",
    "        sess.run(init)\n",
    "        #saver.restore(sess, \"/saver/model.ckpt\")\n",
    "        for epoch in range(epochs):\n",
    "            for batch in range(int (n / batch_size)):\n",
    "                batch_xs = X_train[(batch*batch_size) : (batch+1)*batch_size]\n",
    "                batch_ys = y_train[(batch*batch_size) : (batch+1)*batch_size]\n",
    "                sess.run(train_step, feed_dict = {X_placeholder:batch_xs, y_placeholder:batch_ys})\n",
    "                \n",
    "                sys.stdout.write(\"\\rBatch(10):\" + str(sess.run(loss, feed_dict = {X_placeholder:batch_xs, y_placeholder:batch_ys})))\n",
    "\n",
    "            print(\"\")\n",
    "        saver.save(sess, \"/saver/model.ckpt\")\n",
    "        pred = sess.run(z10, feed_dict = {X_placeholder:X_test})\n",
    "        print('\\nR2_score: ', sklearn.metrics.r2_score(y_true = y_test, y_pred = pred))"
   ]
  }
 ],
 "metadata": {
  "kernelspec": {
   "display_name": "Python 3",
   "language": "python",
   "name": "python3"
  },
  "language_info": {
   "codemirror_mode": {
    "name": "ipython",
    "version": 3
   },
   "file_extension": ".py",
   "mimetype": "text/x-python",
   "name": "python",
   "nbconvert_exporter": "python",
   "pygments_lexer": "ipython3",
   "version": "3.5.2"
  }
 },
 "nbformat": 4,
 "nbformat_minor": 2
}
